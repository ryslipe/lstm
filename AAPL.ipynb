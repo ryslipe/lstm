{
 "cells": [
  {
   "cell_type": "markdown",
   "id": "e85c7440",
   "metadata": {},
   "source": [
    "## RNN Project \n",
    "#### Ryan Slipe\n",
    "#### Grand Canyon University\n",
    "#### DSC-550-O500\n",
    "#### 11/14/2023"
   ]
  },
  {
   "cell_type": "code",
   "execution_count": 233,
   "id": "dbeb979f",
   "metadata": {},
   "outputs": [],
   "source": [
    "import pandas as pd\n",
    "import numpy as np \n",
    "import matplotlib.pyplot as plt"
   ]
  },
  {
   "cell_type": "markdown",
   "id": "a2ded137",
   "metadata": {},
   "source": [
    "## Importing and Cleaning the Data"
   ]
  },
  {
   "cell_type": "code",
   "execution_count": 538,
   "id": "6088fbf3",
   "metadata": {},
   "outputs": [],
   "source": [
    "# import the data\n",
    "df = pd.read_csv(\"C:/Users/ryans/Documents/Neural Netwoks-Deep Learning/LSTM/apple/AAPL.csv\")"
   ]
  },
  {
   "cell_type": "code",
   "execution_count": 320,
   "id": "73a0d4b0",
   "metadata": {},
   "outputs": [],
   "source": [
    "df22 = df.copy()"
   ]
  },
  {
   "cell_type": "code",
   "execution_count": 235,
   "id": "68346f1c",
   "metadata": {},
   "outputs": [
    {
     "data": {
      "text/html": [
       "<div>\n",
       "<style scoped>\n",
       "    .dataframe tbody tr th:only-of-type {\n",
       "        vertical-align: middle;\n",
       "    }\n",
       "\n",
       "    .dataframe tbody tr th {\n",
       "        vertical-align: top;\n",
       "    }\n",
       "\n",
       "    .dataframe thead th {\n",
       "        text-align: right;\n",
       "    }\n",
       "</style>\n",
       "<table border=\"1\" class=\"dataframe\">\n",
       "  <thead>\n",
       "    <tr style=\"text-align: right;\">\n",
       "      <th></th>\n",
       "      <th>Date</th>\n",
       "      <th>Open</th>\n",
       "      <th>High</th>\n",
       "      <th>Low</th>\n",
       "      <th>Close</th>\n",
       "      <th>Adj Close</th>\n",
       "      <th>Volume</th>\n",
       "    </tr>\n",
       "  </thead>\n",
       "  <tbody>\n",
       "    <tr>\n",
       "      <th>0</th>\n",
       "      <td>1980-12-12</td>\n",
       "      <td>0.128348</td>\n",
       "      <td>0.128906</td>\n",
       "      <td>0.128348</td>\n",
       "      <td>0.128348</td>\n",
       "      <td>0.100178</td>\n",
       "      <td>469033600</td>\n",
       "    </tr>\n",
       "    <tr>\n",
       "      <th>1</th>\n",
       "      <td>1980-12-15</td>\n",
       "      <td>0.122210</td>\n",
       "      <td>0.122210</td>\n",
       "      <td>0.121652</td>\n",
       "      <td>0.121652</td>\n",
       "      <td>0.094952</td>\n",
       "      <td>175884800</td>\n",
       "    </tr>\n",
       "    <tr>\n",
       "      <th>2</th>\n",
       "      <td>1980-12-16</td>\n",
       "      <td>0.113281</td>\n",
       "      <td>0.113281</td>\n",
       "      <td>0.112723</td>\n",
       "      <td>0.112723</td>\n",
       "      <td>0.087983</td>\n",
       "      <td>105728000</td>\n",
       "    </tr>\n",
       "    <tr>\n",
       "      <th>3</th>\n",
       "      <td>1980-12-17</td>\n",
       "      <td>0.115513</td>\n",
       "      <td>0.116071</td>\n",
       "      <td>0.115513</td>\n",
       "      <td>0.115513</td>\n",
       "      <td>0.090160</td>\n",
       "      <td>86441600</td>\n",
       "    </tr>\n",
       "    <tr>\n",
       "      <th>4</th>\n",
       "      <td>1980-12-18</td>\n",
       "      <td>0.118862</td>\n",
       "      <td>0.119420</td>\n",
       "      <td>0.118862</td>\n",
       "      <td>0.118862</td>\n",
       "      <td>0.092774</td>\n",
       "      <td>73449600</td>\n",
       "    </tr>\n",
       "  </tbody>\n",
       "</table>\n",
       "</div>"
      ],
      "text/plain": [
       "         Date      Open      High       Low     Close  Adj Close     Volume\n",
       "0  1980-12-12  0.128348  0.128906  0.128348  0.128348   0.100178  469033600\n",
       "1  1980-12-15  0.122210  0.122210  0.121652  0.121652   0.094952  175884800\n",
       "2  1980-12-16  0.113281  0.113281  0.112723  0.112723   0.087983  105728000\n",
       "3  1980-12-17  0.115513  0.116071  0.115513  0.115513   0.090160   86441600\n",
       "4  1980-12-18  0.118862  0.119420  0.118862  0.118862   0.092774   73449600"
      ]
     },
     "execution_count": 235,
     "metadata": {},
     "output_type": "execute_result"
    }
   ],
   "source": [
    "# view first 5 rows\n",
    "df.head()"
   ]
  },
  {
   "cell_type": "code",
   "execution_count": 237,
   "id": "cea9d922",
   "metadata": {},
   "outputs": [],
   "source": [
    "# change date column to be the date time\n",
    "df['Date'] = pd.to_datetime(df['Date'])\n"
   ]
  },
  {
   "cell_type": "code",
   "execution_count": 238,
   "id": "5c9131c0",
   "metadata": {},
   "outputs": [
    {
     "data": {
      "text/plain": [
       "Date         datetime64[ns]\n",
       "Open                float64\n",
       "High                float64\n",
       "Low                 float64\n",
       "Close               float64\n",
       "Adj Close           float64\n",
       "Volume                int64\n",
       "dtype: object"
      ]
     },
     "execution_count": 238,
     "metadata": {},
     "output_type": "execute_result"
    }
   ],
   "source": [
    "# check data types\n",
    "df.dtypes"
   ]
  },
  {
   "cell_type": "code",
   "execution_count": 239,
   "id": "a7fb08e9",
   "metadata": {},
   "outputs": [
    {
     "name": "stdout",
     "output_type": "stream",
     "text": [
      "<class 'pandas.core.frame.DataFrame'>\n",
      "RangeIndex: 10468 entries, 0 to 10467\n",
      "Data columns (total 7 columns):\n",
      " #   Column     Non-Null Count  Dtype         \n",
      "---  ------     --------------  -----         \n",
      " 0   Date       10468 non-null  datetime64[ns]\n",
      " 1   Open       10468 non-null  float64       \n",
      " 2   High       10468 non-null  float64       \n",
      " 3   Low        10468 non-null  float64       \n",
      " 4   Close      10468 non-null  float64       \n",
      " 5   Adj Close  10468 non-null  float64       \n",
      " 6   Volume     10468 non-null  int64         \n",
      "dtypes: datetime64[ns](1), float64(5), int64(1)\n",
      "memory usage: 572.6 KB\n"
     ]
    }
   ],
   "source": [
    "# check for null values \n",
    "df.info()"
   ]
  },
  {
   "cell_type": "code",
   "execution_count": 240,
   "id": "fdffaeac",
   "metadata": {},
   "outputs": [
    {
     "data": {
      "text/html": [
       "<div>\n",
       "<style scoped>\n",
       "    .dataframe tbody tr th:only-of-type {\n",
       "        vertical-align: middle;\n",
       "    }\n",
       "\n",
       "    .dataframe tbody tr th {\n",
       "        vertical-align: top;\n",
       "    }\n",
       "\n",
       "    .dataframe thead th {\n",
       "        text-align: right;\n",
       "    }\n",
       "</style>\n",
       "<table border=\"1\" class=\"dataframe\">\n",
       "  <thead>\n",
       "    <tr style=\"text-align: right;\">\n",
       "      <th></th>\n",
       "      <th>Date</th>\n",
       "      <th>Open</th>\n",
       "      <th>High</th>\n",
       "      <th>Low</th>\n",
       "      <th>Close</th>\n",
       "      <th>Adj Close</th>\n",
       "      <th>Volume</th>\n",
       "    </tr>\n",
       "  </thead>\n",
       "  <tbody>\n",
       "    <tr>\n",
       "      <th>count</th>\n",
       "      <td>10468</td>\n",
       "      <td>10468.000000</td>\n",
       "      <td>10468.000000</td>\n",
       "      <td>10468.000000</td>\n",
       "      <td>10468.000000</td>\n",
       "      <td>10468.000000</td>\n",
       "      <td>1.046800e+04</td>\n",
       "    </tr>\n",
       "    <tr>\n",
       "      <th>mean</th>\n",
       "      <td>2001-09-07 05:59:43.492548608</td>\n",
       "      <td>14.757987</td>\n",
       "      <td>14.921491</td>\n",
       "      <td>14.594484</td>\n",
       "      <td>14.763533</td>\n",
       "      <td>14.130431</td>\n",
       "      <td>3.308489e+08</td>\n",
       "    </tr>\n",
       "    <tr>\n",
       "      <th>min</th>\n",
       "      <td>1980-12-12 00:00:00</td>\n",
       "      <td>0.049665</td>\n",
       "      <td>0.049665</td>\n",
       "      <td>0.049107</td>\n",
       "      <td>0.049107</td>\n",
       "      <td>0.038329</td>\n",
       "      <td>0.000000e+00</td>\n",
       "    </tr>\n",
       "    <tr>\n",
       "      <th>25%</th>\n",
       "      <td>1991-04-21 06:00:00</td>\n",
       "      <td>0.283482</td>\n",
       "      <td>0.289286</td>\n",
       "      <td>0.276786</td>\n",
       "      <td>0.283482</td>\n",
       "      <td>0.235462</td>\n",
       "      <td>1.237768e+08</td>\n",
       "    </tr>\n",
       "    <tr>\n",
       "      <th>50%</th>\n",
       "      <td>2001-08-28 12:00:00</td>\n",
       "      <td>0.474107</td>\n",
       "      <td>0.482768</td>\n",
       "      <td>0.465960</td>\n",
       "      <td>0.475446</td>\n",
       "      <td>0.392373</td>\n",
       "      <td>2.181592e+08</td>\n",
       "    </tr>\n",
       "    <tr>\n",
       "      <th>75%</th>\n",
       "      <td>2012-01-25 06:00:00</td>\n",
       "      <td>14.953303</td>\n",
       "      <td>15.057143</td>\n",
       "      <td>14.692589</td>\n",
       "      <td>14.901964</td>\n",
       "      <td>12.835269</td>\n",
       "      <td>4.105794e+08</td>\n",
       "    </tr>\n",
       "    <tr>\n",
       "      <th>max</th>\n",
       "      <td>2022-06-17 00:00:00</td>\n",
       "      <td>182.630005</td>\n",
       "      <td>182.940002</td>\n",
       "      <td>179.119995</td>\n",
       "      <td>182.009995</td>\n",
       "      <td>181.511703</td>\n",
       "      <td>7.421641e+09</td>\n",
       "    </tr>\n",
       "    <tr>\n",
       "      <th>std</th>\n",
       "      <td>NaN</td>\n",
       "      <td>31.914174</td>\n",
       "      <td>32.289158</td>\n",
       "      <td>31.543959</td>\n",
       "      <td>31.929489</td>\n",
       "      <td>31.637275</td>\n",
       "      <td>3.388418e+08</td>\n",
       "    </tr>\n",
       "  </tbody>\n",
       "</table>\n",
       "</div>"
      ],
      "text/plain": [
       "                                Date          Open          High  \\\n",
       "count                          10468  10468.000000  10468.000000   \n",
       "mean   2001-09-07 05:59:43.492548608     14.757987     14.921491   \n",
       "min              1980-12-12 00:00:00      0.049665      0.049665   \n",
       "25%              1991-04-21 06:00:00      0.283482      0.289286   \n",
       "50%              2001-08-28 12:00:00      0.474107      0.482768   \n",
       "75%              2012-01-25 06:00:00     14.953303     15.057143   \n",
       "max              2022-06-17 00:00:00    182.630005    182.940002   \n",
       "std                              NaN     31.914174     32.289158   \n",
       "\n",
       "                Low         Close     Adj Close        Volume  \n",
       "count  10468.000000  10468.000000  10468.000000  1.046800e+04  \n",
       "mean      14.594484     14.763533     14.130431  3.308489e+08  \n",
       "min        0.049107      0.049107      0.038329  0.000000e+00  \n",
       "25%        0.276786      0.283482      0.235462  1.237768e+08  \n",
       "50%        0.465960      0.475446      0.392373  2.181592e+08  \n",
       "75%       14.692589     14.901964     12.835269  4.105794e+08  \n",
       "max      179.119995    182.009995    181.511703  7.421641e+09  \n",
       "std       31.543959     31.929489     31.637275  3.388418e+08  "
      ]
     },
     "execution_count": 240,
     "metadata": {},
     "output_type": "execute_result"
    }
   ],
   "source": [
    "# check statistics \n",
    "df.describe()"
   ]
  },
  {
   "cell_type": "code",
   "execution_count": 241,
   "id": "74f49d05",
   "metadata": {},
   "outputs": [],
   "source": [
    "# Work with the closing prices\n",
    "data = df[['Date', 'Close']]"
   ]
  },
  {
   "cell_type": "code",
   "execution_count": 242,
   "id": "834dd2b2",
   "metadata": {},
   "outputs": [
    {
     "data": {
      "text/html": [
       "<div>\n",
       "<style scoped>\n",
       "    .dataframe tbody tr th:only-of-type {\n",
       "        vertical-align: middle;\n",
       "    }\n",
       "\n",
       "    .dataframe tbody tr th {\n",
       "        vertical-align: top;\n",
       "    }\n",
       "\n",
       "    .dataframe thead th {\n",
       "        text-align: right;\n",
       "    }\n",
       "</style>\n",
       "<table border=\"1\" class=\"dataframe\">\n",
       "  <thead>\n",
       "    <tr style=\"text-align: right;\">\n",
       "      <th></th>\n",
       "      <th>Date</th>\n",
       "      <th>Close</th>\n",
       "    </tr>\n",
       "  </thead>\n",
       "  <tbody>\n",
       "    <tr>\n",
       "      <th>0</th>\n",
       "      <td>1980-12-12</td>\n",
       "      <td>0.128348</td>\n",
       "    </tr>\n",
       "    <tr>\n",
       "      <th>1</th>\n",
       "      <td>1980-12-15</td>\n",
       "      <td>0.121652</td>\n",
       "    </tr>\n",
       "    <tr>\n",
       "      <th>2</th>\n",
       "      <td>1980-12-16</td>\n",
       "      <td>0.112723</td>\n",
       "    </tr>\n",
       "    <tr>\n",
       "      <th>3</th>\n",
       "      <td>1980-12-17</td>\n",
       "      <td>0.115513</td>\n",
       "    </tr>\n",
       "    <tr>\n",
       "      <th>4</th>\n",
       "      <td>1980-12-18</td>\n",
       "      <td>0.118862</td>\n",
       "    </tr>\n",
       "  </tbody>\n",
       "</table>\n",
       "</div>"
      ],
      "text/plain": [
       "        Date     Close\n",
       "0 1980-12-12  0.128348\n",
       "1 1980-12-15  0.121652\n",
       "2 1980-12-16  0.112723\n",
       "3 1980-12-17  0.115513\n",
       "4 1980-12-18  0.118862"
      ]
     },
     "execution_count": 242,
     "metadata": {},
     "output_type": "execute_result"
    }
   ],
   "source": [
    "# view first 5 rows\n",
    "data.head()"
   ]
  },
  {
   "cell_type": "code",
   "execution_count": 243,
   "id": "07f3901b",
   "metadata": {},
   "outputs": [],
   "source": [
    "# set index\n",
    "data.set_index('Date', inplace = True)"
   ]
  },
  {
   "cell_type": "code",
   "execution_count": 244,
   "id": "148d4a41",
   "metadata": {},
   "outputs": [
    {
     "data": {
      "text/plain": [
       "Text(0, 0.5, 'Price')"
      ]
     },
     "execution_count": 244,
     "metadata": {},
     "output_type": "execute_result"
    },
    {
     "data": {
      "image/png": "[encoded data removed]",
      "text/plain": [
       "<Figure size 640x480 with 1 Axes>"
      ]
     },
     "metadata": {},
     "output_type": "display_data"
    }
   ],
   "source": [
    "# plot the data\n",
    "plt.plot(data['Close'])\n",
    "plt.title('Apple Closing Prices')\n",
    "plt.xlabel('Date')\n",
    "plt.ylabel('Price')"
   ]
  },
  {
   "cell_type": "markdown",
   "id": "26af693a",
   "metadata": {},
   "source": [
    "Now, we can plot our training and testing data. We will be training on the data from 2010-2020 and test our model on the year 2021. "
   ]
  },
  {
   "cell_type": "code",
   "execution_count": 245,
   "id": "102fd95a",
   "metadata": {},
   "outputs": [
    {
     "data": {
      "text/plain": [
       "Text(0.5, 1.0, 'Training and Testing Data')"
      ]
     },
     "execution_count": 245,
     "metadata": {},
     "output_type": "execute_result"
    },
    {
     "data": {
      "image/png": "[encoded data removed]",
      "text/plain": [
       "<Figure size 640x480 with 1 Axes>"
      ]
     },
     "metadata": {},
     "output_type": "display_data"
    }
   ],
   "source": [
    "# plot training and testing data\n",
    "data['Close']['2015':'2020'].plot(legend = True)\n",
    "data['Close']['2020':'2021'].plot(legend = True)\n",
    "plt.legend(['Training Data', 'Testing Data'])\n",
    "plt.title('Training and Testing Data')"
   ]
  },
  {
   "cell_type": "code",
   "execution_count": 246,
   "id": "0819e9f4",
   "metadata": {},
   "outputs": [
    {
     "data": {
      "text/html": [
       "<div>\n",
       "<style scoped>\n",
       "    .dataframe tbody tr th:only-of-type {\n",
       "        vertical-align: middle;\n",
       "    }\n",
       "\n",
       "    .dataframe tbody tr th {\n",
       "        vertical-align: top;\n",
       "    }\n",
       "\n",
       "    .dataframe thead th {\n",
       "        text-align: right;\n",
       "    }\n",
       "</style>\n",
       "<table border=\"1\" class=\"dataframe\">\n",
       "  <thead>\n",
       "    <tr style=\"text-align: right;\">\n",
       "      <th></th>\n",
       "      <th>Date</th>\n",
       "      <th>Close</th>\n",
       "    </tr>\n",
       "  </thead>\n",
       "  <tbody>\n",
       "    <tr>\n",
       "      <th>0</th>\n",
       "      <td>1980-12-12</td>\n",
       "      <td>0.128348</td>\n",
       "    </tr>\n",
       "    <tr>\n",
       "      <th>1</th>\n",
       "      <td>1980-12-15</td>\n",
       "      <td>0.121652</td>\n",
       "    </tr>\n",
       "    <tr>\n",
       "      <th>2</th>\n",
       "      <td>1980-12-16</td>\n",
       "      <td>0.112723</td>\n",
       "    </tr>\n",
       "    <tr>\n",
       "      <th>3</th>\n",
       "      <td>1980-12-17</td>\n",
       "      <td>0.115513</td>\n",
       "    </tr>\n",
       "    <tr>\n",
       "      <th>4</th>\n",
       "      <td>1980-12-18</td>\n",
       "      <td>0.118862</td>\n",
       "    </tr>\n",
       "    <tr>\n",
       "      <th>...</th>\n",
       "      <td>...</td>\n",
       "      <td>...</td>\n",
       "    </tr>\n",
       "    <tr>\n",
       "      <th>10463</th>\n",
       "      <td>2022-06-13</td>\n",
       "      <td>131.880005</td>\n",
       "    </tr>\n",
       "    <tr>\n",
       "      <th>10464</th>\n",
       "      <td>2022-06-14</td>\n",
       "      <td>132.759995</td>\n",
       "    </tr>\n",
       "    <tr>\n",
       "      <th>10465</th>\n",
       "      <td>2022-06-15</td>\n",
       "      <td>135.429993</td>\n",
       "    </tr>\n",
       "    <tr>\n",
       "      <th>10466</th>\n",
       "      <td>2022-06-16</td>\n",
       "      <td>130.059998</td>\n",
       "    </tr>\n",
       "    <tr>\n",
       "      <th>10467</th>\n",
       "      <td>2022-06-17</td>\n",
       "      <td>131.559998</td>\n",
       "    </tr>\n",
       "  </tbody>\n",
       "</table>\n",
       "<p>10468 rows × 2 columns</p>\n",
       "</div>"
      ],
      "text/plain": [
       "            Date       Close\n",
       "0     1980-12-12    0.128348\n",
       "1     1980-12-15    0.121652\n",
       "2     1980-12-16    0.112723\n",
       "3     1980-12-17    0.115513\n",
       "4     1980-12-18    0.118862\n",
       "...          ...         ...\n",
       "10463 2022-06-13  131.880005\n",
       "10464 2022-06-14  132.759995\n",
       "10465 2022-06-15  135.429993\n",
       "10466 2022-06-16  130.059998\n",
       "10467 2022-06-17  131.559998\n",
       "\n",
       "[10468 rows x 2 columns]"
      ]
     },
     "execution_count": 246,
     "metadata": {},
     "output_type": "execute_result"
    }
   ],
   "source": [
    "data.reset_index()"
   ]
  },
  {
   "cell_type": "markdown",
   "id": "801e0ed6",
   "metadata": {},
   "source": [
    "Start our data at 2010 prices and exclude the closing prices from 2022 because that will be the last bit of data that we will test on. We will first want to test our data on the year 2021 so we will set up the training data to be from 2010-2020 and test on the year 2021. Then, we will test on the year 2022. "
   ]
  },
  {
   "cell_type": "code",
   "execution_count": 247,
   "id": "1599e06f",
   "metadata": {},
   "outputs": [
    {
     "name": "stdout",
     "output_type": "stream",
     "text": [
      "<class 'pandas.core.frame.DataFrame'>\n",
      "DatetimeIndex: 10468 entries, 1980-12-12 to 2022-06-17\n",
      "Data columns (total 1 columns):\n",
      " #   Column  Non-Null Count  Dtype  \n",
      "---  ------  --------------  -----  \n",
      " 0   Close   10468 non-null  float64\n",
      "dtypes: float64(1)\n",
      "memory usage: 421.6 KB\n"
     ]
    }
   ],
   "source": [
    "# how many closing prices\n",
    "data.info()"
   ]
  },
  {
   "cell_type": "code",
   "execution_count": 249,
   "id": "ff31e8c3",
   "metadata": {},
   "outputs": [],
   "source": [
    "# work with data past 2010 up until 2022.\n",
    "data = data.loc['2015':'2021']"
   ]
  },
  {
   "cell_type": "code",
   "execution_count": 250,
   "id": "4be25667",
   "metadata": {},
   "outputs": [
    {
     "data": {
      "text/html": [
       "<div>\n",
       "<style scoped>\n",
       "    .dataframe tbody tr th:only-of-type {\n",
       "        vertical-align: middle;\n",
       "    }\n",
       "\n",
       "    .dataframe tbody tr th {\n",
       "        vertical-align: top;\n",
       "    }\n",
       "\n",
       "    .dataframe thead th {\n",
       "        text-align: right;\n",
       "    }\n",
       "</style>\n",
       "<table border=\"1\" class=\"dataframe\">\n",
       "  <thead>\n",
       "    <tr style=\"text-align: right;\">\n",
       "      <th></th>\n",
       "      <th>Close</th>\n",
       "    </tr>\n",
       "    <tr>\n",
       "      <th>Date</th>\n",
       "      <th></th>\n",
       "    </tr>\n",
       "  </thead>\n",
       "  <tbody>\n",
       "    <tr>\n",
       "      <th>2015-01-02</th>\n",
       "      <td>27.332500</td>\n",
       "    </tr>\n",
       "    <tr>\n",
       "      <th>2015-01-05</th>\n",
       "      <td>26.562500</td>\n",
       "    </tr>\n",
       "    <tr>\n",
       "      <th>2015-01-06</th>\n",
       "      <td>26.565001</td>\n",
       "    </tr>\n",
       "    <tr>\n",
       "      <th>2015-01-07</th>\n",
       "      <td>26.937500</td>\n",
       "    </tr>\n",
       "    <tr>\n",
       "      <th>2015-01-08</th>\n",
       "      <td>27.972500</td>\n",
       "    </tr>\n",
       "  </tbody>\n",
       "</table>\n",
       "</div>"
      ],
      "text/plain": [
       "                Close\n",
       "Date                 \n",
       "2015-01-02  27.332500\n",
       "2015-01-05  26.562500\n",
       "2015-01-06  26.565001\n",
       "2015-01-07  26.937500\n",
       "2015-01-08  27.972500"
      ]
     },
     "execution_count": 250,
     "metadata": {},
     "output_type": "execute_result"
    }
   ],
   "source": [
    "# first 5 records\n",
    "data.head()"
   ]
  },
  {
   "cell_type": "code",
   "execution_count": 251,
   "id": "20b344f5",
   "metadata": {},
   "outputs": [
    {
     "data": {
      "text/html": [
       "<div>\n",
       "<style scoped>\n",
       "    .dataframe tbody tr th:only-of-type {\n",
       "        vertical-align: middle;\n",
       "    }\n",
       "\n",
       "    .dataframe tbody tr th {\n",
       "        vertical-align: top;\n",
       "    }\n",
       "\n",
       "    .dataframe thead th {\n",
       "        text-align: right;\n",
       "    }\n",
       "</style>\n",
       "<table border=\"1\" class=\"dataframe\">\n",
       "  <thead>\n",
       "    <tr style=\"text-align: right;\">\n",
       "      <th></th>\n",
       "      <th>Close</th>\n",
       "    </tr>\n",
       "    <tr>\n",
       "      <th>Date</th>\n",
       "      <th></th>\n",
       "    </tr>\n",
       "  </thead>\n",
       "  <tbody>\n",
       "    <tr>\n",
       "      <th>2021-12-27</th>\n",
       "      <td>180.330002</td>\n",
       "    </tr>\n",
       "    <tr>\n",
       "      <th>2021-12-28</th>\n",
       "      <td>179.289993</td>\n",
       "    </tr>\n",
       "    <tr>\n",
       "      <th>2021-12-29</th>\n",
       "      <td>179.380005</td>\n",
       "    </tr>\n",
       "    <tr>\n",
       "      <th>2021-12-30</th>\n",
       "      <td>178.199997</td>\n",
       "    </tr>\n",
       "    <tr>\n",
       "      <th>2021-12-31</th>\n",
       "      <td>177.570007</td>\n",
       "    </tr>\n",
       "  </tbody>\n",
       "</table>\n",
       "</div>"
      ],
      "text/plain": [
       "                 Close\n",
       "Date                  \n",
       "2021-12-27  180.330002\n",
       "2021-12-28  179.289993\n",
       "2021-12-29  179.380005\n",
       "2021-12-30  178.199997\n",
       "2021-12-31  177.570007"
      ]
     },
     "execution_count": 251,
     "metadata": {},
     "output_type": "execute_result"
    }
   ],
   "source": [
    "# last 5 records\n",
    "data.tail()"
   ]
  },
  {
   "cell_type": "code",
   "execution_count": 252,
   "id": "ae6f7944",
   "metadata": {},
   "outputs": [
    {
     "name": "stdout",
     "output_type": "stream",
     "text": [
      "<class 'pandas.core.frame.DataFrame'>\n",
      "DatetimeIndex: 1763 entries, 2015-01-02 to 2021-12-31\n",
      "Data columns (total 1 columns):\n",
      " #   Column  Non-Null Count  Dtype  \n",
      "---  ------  --------------  -----  \n",
      " 0   Close   1763 non-null   float64\n",
      "dtypes: float64(1)\n",
      "memory usage: 27.5 KB\n"
     ]
    }
   ],
   "source": [
    "# chack for nulls\n",
    "data.info()"
   ]
  },
  {
   "cell_type": "code",
   "execution_count": 564,
   "id": "2c407e60",
   "metadata": {},
   "outputs": [
    {
     "data": {
      "text/plain": [
       "slice(1511, 1763, None)"
      ]
     },
     "execution_count": 564,
     "metadata": {},
     "output_type": "execute_result"
    }
   ],
   "source": [
    "# find starting index of test data\n",
    "data.index.get_loc('2021')"
   ]
  },
  {
   "cell_type": "markdown",
   "id": "b7d31165",
   "metadata": {},
   "source": [
    "This is the last index of our training set. This means we can slice our training set to be from the first index to the 2768 index."
   ]
  },
  {
   "cell_type": "code",
   "execution_count": 563,
   "id": "f4188a01",
   "metadata": {},
   "outputs": [
    {
     "data": {
      "text/plain": [
       "Close    132.690002\n",
       "Name: 2020-12-31 00:00:00, dtype: float64"
      ]
     },
     "execution_count": 563,
     "metadata": {},
     "output_type": "execute_result"
    }
   ],
   "source": [
    "# last index of training set. \n",
    "data.iloc[1510]"
   ]
  },
  {
   "cell_type": "code",
   "execution_count": 255,
   "id": "5c0538cd",
   "metadata": {},
   "outputs": [
    {
     "data": {
      "text/plain": [
       "Close    129.410004\n",
       "Name: 2021-01-04 00:00:00, dtype: float64"
      ]
     },
     "execution_count": 255,
     "metadata": {},
     "output_type": "execute_result"
    }
   ],
   "source": [
    "# starting index of our testing set\n",
    "data.iloc[1511]"
   ]
  },
  {
   "cell_type": "code",
   "execution_count": 256,
   "id": "5a4fd714",
   "metadata": {},
   "outputs": [
    {
     "data": {
      "text/plain": [
       "Close    177.570007\n",
       "Name: 2021-12-31 00:00:00, dtype: float64"
      ]
     },
     "execution_count": 256,
     "metadata": {},
     "output_type": "execute_result"
    }
   ],
   "source": [
    "# last index of our testing set\n",
    "data.iloc[1762]"
   ]
  },
  {
   "cell_type": "code",
   "execution_count": 257,
   "id": "2eed0eeb",
   "metadata": {},
   "outputs": [
    {
     "data": {
      "text/plain": [
       "0        27.332500\n",
       "1        26.562500\n",
       "2        26.565001\n",
       "3        26.937500\n",
       "4        27.972500\n",
       "           ...    \n",
       "1758    180.330002\n",
       "1759    179.289993\n",
       "1760    179.380005\n",
       "1761    178.199997\n",
       "1762    177.570007\n",
       "Name: Close, Length: 1763, dtype: float64"
      ]
     },
     "execution_count": 257,
     "metadata": {},
     "output_type": "execute_result"
    }
   ],
   "source": [
    "# no longer need dates as the index\n",
    "data.reset_index()['Close']"
   ]
  },
  {
   "cell_type": "code",
   "execution_count": 258,
   "id": "a3caaa41",
   "metadata": {},
   "outputs": [],
   "source": [
    "# convert our data to a numpy array\n",
    "dataset = data.values"
   ]
  },
  {
   "cell_type": "code",
   "execution_count": 259,
   "id": "5c8208f3",
   "metadata": {},
   "outputs": [],
   "source": [
    "# change type to float32\n",
    "dataset = dataset.astype('float32')"
   ]
  },
  {
   "cell_type": "code",
   "execution_count": 260,
   "id": "d6884f39",
   "metadata": {},
   "outputs": [
    {
     "data": {
      "text/plain": [
       "array([[ 27.3325],\n",
       "       [ 26.5625],\n",
       "       [ 26.565 ],\n",
       "       ...,\n",
       "       [179.38  ],\n",
       "       [178.2   ],\n",
       "       [177.57  ]], dtype=float32)"
      ]
     },
     "execution_count": 260,
     "metadata": {},
     "output_type": "execute_result"
    }
   ],
   "source": [
    "# make sure it is an array\n",
    "dataset"
   ]
  },
  {
   "cell_type": "code",
   "execution_count": 261,
   "id": "5e01661f",
   "metadata": {},
   "outputs": [
    {
     "data": {
      "text/plain": [
       "(1763, 1)"
      ]
     },
     "execution_count": 261,
     "metadata": {},
     "output_type": "execute_result"
    }
   ],
   "source": [
    "# view shape\n",
    "dataset.shape"
   ]
  },
  {
   "cell_type": "markdown",
   "id": "cbf92b56",
   "metadata": {},
   "source": [
    "##### Scale the Data"
   ]
  },
  {
   "cell_type": "code",
   "execution_count": 262,
   "id": "512d40e2",
   "metadata": {},
   "outputs": [],
   "source": [
    "# import library\n",
    "from sklearn.preprocessing import MinMaxScaler"
   ]
  },
  {
   "cell_type": "code",
   "execution_count": 263,
   "id": "74846c3d",
   "metadata": {},
   "outputs": [],
   "source": [
    "# create object\n",
    "scaler = MinMaxScaler(feature_range=(0,1))\n",
    "\n",
    "# fit and transform to our data\n",
    "dataset = scaler.fit_transform(dataset)"
   ]
  },
  {
   "cell_type": "code",
   "execution_count": 264,
   "id": "a86eff24",
   "metadata": {},
   "outputs": [
    {
     "name": "stdout",
     "output_type": "stream",
     "text": [
      "Our min is : 0.0.\n",
      "Our max is : 1.0000001192092896.\n"
     ]
    }
   ],
   "source": [
    "# check min and max\n",
    "print(f'Our min is : {dataset.min()}.')\n",
    "print(f'Our max is : {dataset.max()}.')"
   ]
  },
  {
   "cell_type": "code",
   "execution_count": 265,
   "id": "c70bb766",
   "metadata": {},
   "outputs": [
    {
     "name": "stdout",
     "output_type": "stream",
     "text": [
      "[[0.03009605]\n",
      " [0.02521476]\n",
      " [0.02523062]\n",
      " ...\n",
      " [0.9939776 ]\n",
      " [0.9864972 ]\n",
      " [0.9825035 ]]\n"
     ]
    }
   ],
   "source": [
    "# verify the numbers are between 0 and 1\n",
    "print(dataset)"
   ]
  },
  {
   "cell_type": "markdown",
   "id": "c89edd2e",
   "metadata": {},
   "source": [
    "##### Train/Test/Valid Partitions"
   ]
  },
  {
   "cell_type": "markdown",
   "id": "67036641",
   "metadata": {},
   "source": [
    "This part of the process is different than what we have done in the past since we are working with **sequences** of data. This is also called a **time series** and the order of the inputs matters to us. When using train test splits in the past we often used sklearn to do this process for us but in the case of our stock prices we do not want the splits to be random portions of the data. We have to be sure that our data are staying in their correct order for our neural network to learn from. This is because **time series** data are dependent on eachother. In the cases of classification or linear regression our data was dependent on the features such as a day of the week, but in our case the data is going to be dependent on the output from the previous date."
   ]
  },
  {
   "cell_type": "code",
   "execution_count": 266,
   "id": "ce10c97b",
   "metadata": {},
   "outputs": [],
   "source": [
    "# set up training and testing data\n",
    "train_data = dataset[0:1511,:]\n",
    "test_data = dataset[1511:, :1]"
   ]
  },
  {
   "cell_type": "code",
   "execution_count": 267,
   "id": "b8ee748a",
   "metadata": {},
   "outputs": [
    {
     "data": {
      "text/plain": [
       "1511"
      ]
     },
     "execution_count": 267,
     "metadata": {},
     "output_type": "execute_result"
    }
   ],
   "source": [
    "# len of training data from 2010-2020\n",
    "len(train_data)"
   ]
  },
  {
   "cell_type": "code",
   "execution_count": 269,
   "id": "9b988351",
   "metadata": {},
   "outputs": [
    {
     "data": {
      "text/plain": [
       "252"
      ]
     },
     "execution_count": 269,
     "metadata": {},
     "output_type": "execute_result"
    }
   ],
   "source": [
    "# there are 252 trading days a year so this seems correct.\n",
    "len(test_data)"
   ]
  },
  {
   "cell_type": "code",
   "execution_count": 270,
   "id": "2625984d",
   "metadata": {},
   "outputs": [
    {
     "data": {
      "text/plain": [
       "array([[0.03009605],\n",
       "       [0.02521476],\n",
       "       [0.02523062],\n",
       "       [0.02759202],\n",
       "       [0.03415324]], dtype=float32)"
      ]
     },
     "execution_count": 270,
     "metadata": {},
     "output_type": "execute_result"
    }
   ],
   "source": [
    "# first 5 training\n",
    "train_data[:5]"
   ]
  },
  {
   "cell_type": "markdown",
   "id": "3ae5558d",
   "metadata": {},
   "source": [
    "##### Creating X and y"
   ]
  },
  {
   "cell_type": "markdown",
   "id": "a7531f1e",
   "metadata": {},
   "source": [
    "Now that our data is split into training and testing we have **2195** records used for training and **942** records used for testing. However, these are just arrays of single values. For our **LSTM** to operate using a memory system, we need to have **features** and **outputs** just as we do with other models such as linear regression. The **features** will be represented as our **X** values and the targets will be represented as our **y** output values just as we have done so many times before. To set up this data in this fashion we need to declare a **time step**, or a window, that we will be using to create our independent features to predict our dependent features. For example, if we use a time step of 3 we will be using the previous 3 closing prices as X features for each y outputs. I have created this simple graph in excel that shows how the data will be changing from an array to **X_train** and **y_train** values. As we can see in the image, our data is changing from an array of 5 values into two records of **X_train** values consisting of the three previous days and two **y_train** values that consist of the output on the given day. Put simply, our time step is the amount of previous data we want to use to make our decision on today's closing price which will be our target value."
   ]
  },
  {
   "attachments": {
    "unravel.png": {
     "image/png": "[encoded data removed]"
    }
   },
   "cell_type": "markdown",
   "id": "2310c2bd",
   "metadata": {},
   "source": [
    "![unravel.png](attachment:unravel.png)"
   ]
  },
  {
   "cell_type": "code",
   "execution_count": 271,
   "id": "f5263a72",
   "metadata": {},
   "outputs": [],
   "source": [
    "# create a function for time steps\n",
    "def time_series(dataset, time_step):\n",
    "    \n",
    "    # create empty lists that we will fill\n",
    "    X = []\n",
    "    y = []\n",
    "    \n",
    "    for i in range(len(dataset) - time_step - 1):\n",
    "        \n",
    "        # start:stop - does not include last index\n",
    "        window = dataset[i:(i + time_step), 0]\n",
    "        \n",
    "        # add window to our X values - stops 1 before stop index\n",
    "        X.append(window)\n",
    "        \n",
    "        # append the last digit - does not use index just uses time step number (such as 3)\n",
    "        y.append(dataset[i + time_step, 0])\n",
    "    \n",
    "    return np.array(X), np.array(y)\n",
    "        \n",
    "    "
   ]
  },
  {
   "cell_type": "code",
   "execution_count": 272,
   "id": "b4465552",
   "metadata": {},
   "outputs": [],
   "source": [
    "# we will use a time step of 60\n",
    "time_step = 60\n",
    "\n",
    "# create X_train X_test y_train y_test\n",
    "X_train, y_train = time_series(train_data, time_step)\n",
    "X_test, y_test = time_series(test_data, time_step)"
   ]
  },
  {
   "cell_type": "code",
   "execution_count": 273,
   "id": "1f9d8fad",
   "metadata": {},
   "outputs": [
    {
     "data": {
      "text/plain": [
       "array([[0.03009605, 0.02521476, 0.02523062, ..., 0.05372596, 0.05215697,\n",
       "        0.05710167],\n",
       "       [0.02521476, 0.02523062, 0.02759202, ..., 0.05215697, 0.05710167,\n",
       "        0.05402708],\n",
       "       [0.02523062, 0.02759202, 0.03415324, ..., 0.05710167, 0.05402708,\n",
       "        0.05374181],\n",
       "       ...,\n",
       "       [0.597198  , 0.57329863, 0.5953596 , ..., 0.69285876, 0.68702656,\n",
       "        0.6934293 ],\n",
       "       [0.57329863, 0.5953596 , 0.5741862 , ..., 0.68702656, 0.6934293 ,\n",
       "        0.723351  ],\n",
       "       [0.5953596 , 0.5741862 , 0.5863577 , ..., 0.6934293 , 0.723351  ,\n",
       "        0.71181333]], dtype=float32)"
      ]
     },
     "execution_count": 273,
     "metadata": {},
     "output_type": "execute_result"
    }
   ],
   "source": [
    "# now we can see the features we created (time steps used to \"look back\" on)\n",
    "X_train"
   ]
  },
  {
   "cell_type": "code",
   "execution_count": 274,
   "id": "0d68a526",
   "metadata": {},
   "outputs": [
    {
     "name": "stdout",
     "output_type": "stream",
     "text": [
      "(1450, 60)\n"
     ]
    }
   ],
   "source": [
    "# 60 features and 2708 observations\n",
    "print(X_train.shape)"
   ]
  },
  {
   "cell_type": "code",
   "execution_count": 275,
   "id": "e17a990a",
   "metadata": {},
   "outputs": [
    {
     "data": {
      "text/plain": [
       "array([0.05402708, 0.05374181, 0.05543758, ..., 0.723351  , 0.71181333,\n",
       "       0.70452315], dtype=float32)"
      ]
     },
     "execution_count": 275,
     "metadata": {},
     "output_type": "execute_result"
    }
   ],
   "source": [
    "# created target variable\n",
    "y_train"
   ]
  },
  {
   "cell_type": "code",
   "execution_count": 276,
   "id": "46b093e1",
   "metadata": {},
   "outputs": [
    {
     "name": "stdout",
     "output_type": "stream",
     "text": [
      "(1450,)\n"
     ]
    }
   ],
   "source": [
    "# 2708 observations of just one value\n",
    "print(y_train.shape)"
   ]
  },
  {
   "cell_type": "markdown",
   "id": "a7af9983",
   "metadata": {},
   "source": [
    "Now, we have just one more preprocessing step. When working with our LSTM model it is expected to have a 3-dimensional shape consisting of [samples, time steps, features]. Our data is currently 2-dimensional with the shape consisting of [samples, features] so we can use reshape to add the time steps dimension. All we have to do is add a 1 as the third dimension."
   ]
  },
  {
   "cell_type": "code",
   "execution_count": 277,
   "id": "0cdd2a6c",
   "metadata": {},
   "outputs": [],
   "source": [
    "# reshape data into 3 dimensions\n",
    "X_train = X_train.reshape(X_train.shape[0], X_train.shape[1], 1)\n",
    "X_test = X_test.reshape(X_test.shape[0], X_test.shape[1], 1)"
   ]
  },
  {
   "cell_type": "code",
   "execution_count": 278,
   "id": "b8220292",
   "metadata": {},
   "outputs": [
    {
     "data": {
      "text/plain": [
       "(1450, 60, 1)"
      ]
     },
     "execution_count": 278,
     "metadata": {},
     "output_type": "execute_result"
    }
   ],
   "source": [
    "# view new shape\n",
    "X_train.shape"
   ]
  },
  {
   "cell_type": "code",
   "execution_count": 279,
   "id": "ad3e1734",
   "metadata": {},
   "outputs": [
    {
     "data": {
      "text/plain": [
       "(191, 60, 1)"
      ]
     },
     "execution_count": 279,
     "metadata": {},
     "output_type": "execute_result"
    }
   ],
   "source": [
    "# view test shape\n",
    "X_test.shape"
   ]
  },
  {
   "cell_type": "code",
   "execution_count": 280,
   "id": "e478b89f",
   "metadata": {},
   "outputs": [],
   "source": [
    "# RNN libraries \n",
    "from tensorflow.keras.models import Sequential\n",
    "from tensorflow.keras.layers import Dropout, LSTM, Dense"
   ]
  },
  {
   "cell_type": "code",
   "execution_count": 281,
   "id": "a355b8ab",
   "metadata": {},
   "outputs": [],
   "source": [
    "# build the model\n",
    "model = Sequential()\n",
    "\n",
    "# first layer\n",
    "model.add(LSTM(32, return_sequences= True, input_shape = (X_train.shape[1], 1)))\n",
    "\n",
    "# second layer\n",
    "model.add(LSTM(32, return_sequences = True))\n",
    "\n",
    "# third layer\n",
    "model.add(LSTM(16, return_sequences = True))\n",
    "\n",
    "# fourth layer\n",
    "model.add(LSTM(16))\n",
    "\n",
    "# output layer\n",
    "model.add(Dense(1))\n",
    "\n",
    "# compile the model\n",
    "model.compile(loss = 'mean_squared_error', optimizer = 'adam')"
   ]
  },
  {
   "cell_type": "code",
   "execution_count": 282,
   "id": "b2570e18",
   "metadata": {},
   "outputs": [
    {
     "name": "stdout",
     "output_type": "stream",
     "text": [
      "Model: \"sequential_3\"\n",
      "_________________________________________________________________\n",
      " Layer (type)                Output Shape              Param #   \n",
      "=================================================================\n",
      " lstm_12 (LSTM)              (None, 60, 32)            4352      \n",
      "                                                                 \n",
      " lstm_13 (LSTM)              (None, 60, 32)            8320      \n",
      "                                                                 \n",
      " lstm_14 (LSTM)              (None, 60, 16)            3136      \n",
      "                                                                 \n",
      " lstm_15 (LSTM)              (None, 16)                2112      \n",
      "                                                                 \n",
      " dense_3 (Dense)             (None, 1)                 17        \n",
      "                                                                 \n",
      "=================================================================\n",
      "Total params: 17,937\n",
      "Trainable params: 17,937\n",
      "Non-trainable params: 0\n",
      "_________________________________________________________________\n"
     ]
    }
   ],
   "source": [
    "# view summary\n",
    "model.summary()"
   ]
  },
  {
   "cell_type": "code",
   "execution_count": 283,
   "id": "477e7171",
   "metadata": {},
   "outputs": [
    {
     "name": "stdout",
     "output_type": "stream",
     "text": [
      "Epoch 1/75\n",
      "46/46 [==============================] - 11s 60ms/step - loss: 0.0084\n",
      "Epoch 2/75\n",
      "46/46 [==============================] - 3s 61ms/step - loss: 7.4549e-04\n",
      "Epoch 3/75\n",
      "46/46 [==============================] - 3s 60ms/step - loss: 6.7692e-04\n",
      "Epoch 4/75\n",
      "46/46 [==============================] - 3s 62ms/step - loss: 6.9925e-04\n",
      "Epoch 5/75\n",
      "46/46 [==============================] - 4s 79ms/step - loss: 6.3585e-04\n",
      "Epoch 6/75\n",
      "46/46 [==============================] - 4s 79ms/step - loss: 5.8319e-04\n",
      "Epoch 7/75\n",
      "46/46 [==============================] - 4s 84ms/step - loss: 5.2716e-04\n",
      "Epoch 8/75\n",
      "46/46 [==============================] - 4s 81ms/step - loss: 5.6255e-04\n",
      "Epoch 9/75\n",
      "46/46 [==============================] - 4s 78ms/step - loss: 5.1442e-04\n",
      "Epoch 10/75\n",
      "46/46 [==============================] - 4s 85ms/step - loss: 7.5409e-04\n",
      "Epoch 11/75\n",
      "46/46 [==============================] - 4s 79ms/step - loss: 6.0429e-04\n",
      "Epoch 12/75\n",
      "46/46 [==============================] - 4s 80ms/step - loss: 4.6381e-04\n",
      "Epoch 13/75\n",
      "46/46 [==============================] - 4s 82ms/step - loss: 5.2400e-04\n",
      "Epoch 14/75\n",
      "46/46 [==============================] - 4s 79ms/step - loss: 4.3824e-04\n",
      "Epoch 15/75\n",
      "46/46 [==============================] - 4s 81ms/step - loss: 4.0814e-04\n",
      "Epoch 16/75\n",
      "46/46 [==============================] - 4s 82ms/step - loss: 3.7265e-04\n",
      "Epoch 17/75\n",
      "46/46 [==============================] - 4s 80ms/step - loss: 3.7190e-04\n",
      "Epoch 18/75\n",
      "46/46 [==============================] - 4s 80ms/step - loss: 4.2739e-04\n",
      "Epoch 19/75\n",
      "46/46 [==============================] - 4s 83ms/step - loss: 3.4859e-04\n",
      "Epoch 20/75\n",
      "46/46 [==============================] - 4s 80ms/step - loss: 3.3777e-04\n",
      "Epoch 21/75\n",
      "46/46 [==============================] - 4s 86ms/step - loss: 2.9697e-04\n",
      "Epoch 22/75\n",
      "46/46 [==============================] - 4s 84ms/step - loss: 2.7812e-04\n",
      "Epoch 23/75\n",
      "46/46 [==============================] - 4s 82ms/step - loss: 3.3307e-04\n",
      "Epoch 24/75\n",
      "46/46 [==============================] - 4s 81ms/step - loss: 2.6979e-04\n",
      "Epoch 25/75\n",
      "46/46 [==============================] - 4s 80ms/step - loss: 2.7009e-04\n",
      "Epoch 26/75\n",
      "46/46 [==============================] - 4s 80ms/step - loss: 3.2892e-04\n",
      "Epoch 27/75\n",
      "46/46 [==============================] - 4s 81ms/step - loss: 2.7490e-04\n",
      "Epoch 28/75\n",
      "46/46 [==============================] - 4s 81ms/step - loss: 2.4667e-04\n",
      "Epoch 29/75\n",
      "46/46 [==============================] - 4s 82ms/step - loss: 2.7563e-04\n",
      "Epoch 30/75\n",
      "46/46 [==============================] - 4s 81ms/step - loss: 3.0267e-04\n",
      "Epoch 31/75\n",
      "46/46 [==============================] - 4s 81ms/step - loss: 2.9173e-04\n",
      "Epoch 32/75\n",
      "46/46 [==============================] - 4s 82ms/step - loss: 2.4976e-04\n",
      "Epoch 33/75\n",
      "46/46 [==============================] - 4s 81ms/step - loss: 2.5072e-04\n",
      "Epoch 34/75\n",
      "46/46 [==============================] - 4s 80ms/step - loss: 2.6781e-04\n",
      "Epoch 35/75\n",
      "46/46 [==============================] - 4s 81ms/step - loss: 2.3707e-04\n",
      "Epoch 36/75\n",
      "46/46 [==============================] - 4s 83ms/step - loss: 2.3061e-04\n",
      "Epoch 37/75\n",
      "46/46 [==============================] - 4s 80ms/step - loss: 2.2877e-04\n",
      "Epoch 38/75\n",
      "46/46 [==============================] - 4s 82ms/step - loss: 2.5590e-04\n",
      "Epoch 39/75\n",
      "46/46 [==============================] - 4s 81ms/step - loss: 2.0654e-04\n",
      "Epoch 40/75\n",
      "46/46 [==============================] - 4s 82ms/step - loss: 2.1968e-04\n",
      "Epoch 41/75\n",
      "46/46 [==============================] - 4s 81ms/step - loss: 2.2149e-04\n",
      "Epoch 42/75\n",
      "46/46 [==============================] - 4s 81ms/step - loss: 2.6523e-04\n",
      "Epoch 43/75\n",
      "46/46 [==============================] - 4s 82ms/step - loss: 2.0629e-04\n",
      "Epoch 44/75\n",
      "46/46 [==============================] - 4s 82ms/step - loss: 2.0347e-04\n",
      "Epoch 45/75\n",
      "46/46 [==============================] - 4s 82ms/step - loss: 2.0901e-04\n",
      "Epoch 46/75\n",
      "46/46 [==============================] - 4s 82ms/step - loss: 2.0464e-04\n",
      "Epoch 47/75\n",
      "46/46 [==============================] - 4s 84ms/step - loss: 2.6622e-04\n",
      "Epoch 48/75\n",
      "46/46 [==============================] - 4s 81ms/step - loss: 2.1471e-04\n",
      "Epoch 49/75\n",
      "46/46 [==============================] - 4s 82ms/step - loss: 1.9851e-04\n",
      "Epoch 50/75\n",
      "46/46 [==============================] - 4s 82ms/step - loss: 2.2233e-04\n",
      "Epoch 51/75\n",
      "46/46 [==============================] - 4s 81ms/step - loss: 1.7671e-04\n",
      "Epoch 52/75\n",
      "46/46 [==============================] - 4s 82ms/step - loss: 1.7949e-04\n",
      "Epoch 53/75\n",
      "46/46 [==============================] - 4s 82ms/step - loss: 2.0115e-04\n",
      "Epoch 54/75\n",
      "46/46 [==============================] - 4s 81ms/step - loss: 1.7145e-04\n",
      "Epoch 55/75\n",
      "46/46 [==============================] - 4s 81ms/step - loss: 1.7964e-04\n",
      "Epoch 56/75\n",
      "46/46 [==============================] - 4s 81ms/step - loss: 1.6457e-04\n",
      "Epoch 57/75\n",
      "46/46 [==============================] - 4s 82ms/step - loss: 1.6360e-04\n",
      "Epoch 58/75\n",
      "46/46 [==============================] - 4s 84ms/step - loss: 2.0610e-04\n",
      "Epoch 59/75\n",
      "46/46 [==============================] - 4s 83ms/step - loss: 2.0715e-04\n",
      "Epoch 60/75\n",
      "46/46 [==============================] - 4s 83ms/step - loss: 1.6616e-04\n",
      "Epoch 61/75\n",
      "46/46 [==============================] - 4s 82ms/step - loss: 1.6029e-04\n",
      "Epoch 62/75\n",
      "46/46 [==============================] - 4s 82ms/step - loss: 1.5862e-04\n",
      "Epoch 63/75\n",
      "46/46 [==============================] - 4s 82ms/step - loss: 1.7093e-04\n",
      "Epoch 64/75\n",
      "46/46 [==============================] - 4s 82ms/step - loss: 1.4798e-04\n",
      "Epoch 65/75\n",
      "46/46 [==============================] - 4s 82ms/step - loss: 1.4897e-04\n",
      "Epoch 66/75\n",
      "46/46 [==============================] - 4s 83ms/step - loss: 1.3528e-04\n",
      "Epoch 67/75\n",
      "46/46 [==============================] - 4s 81ms/step - loss: 1.5568e-04\n",
      "Epoch 68/75\n",
      "46/46 [==============================] - 4s 83ms/step - loss: 1.4785e-04\n",
      "Epoch 69/75\n",
      "46/46 [==============================] - 4s 81ms/step - loss: 1.2791e-04\n",
      "Epoch 70/75\n",
      "46/46 [==============================] - 4s 82ms/step - loss: 1.5286e-04\n",
      "Epoch 71/75\n",
      "46/46 [==============================] - 4s 83ms/step - loss: 1.3345e-04\n",
      "Epoch 72/75\n",
      "46/46 [==============================] - 4s 81ms/step - loss: 1.2237e-04\n",
      "Epoch 73/75\n",
      "46/46 [==============================] - 4s 83ms/step - loss: 1.2263e-04\n",
      "Epoch 74/75\n",
      "46/46 [==============================] - 4s 81ms/step - loss: 1.4253e-04\n",
      "Epoch 75/75\n",
      "46/46 [==============================] - 4s 82ms/step - loss: 1.4892e-04\n"
     ]
    },
    {
     "data": {
      "text/plain": [
       "<keras.callbacks.History at 0x20e84f90310>"
      ]
     },
     "execution_count": 283,
     "metadata": {},
     "output_type": "execute_result"
    }
   ],
   "source": [
    "# fit the model\n",
    "model.fit(X_train, y_train, epochs = 75, verbose = 1)"
   ]
  },
  {
   "cell_type": "markdown",
   "id": "4d93bc4a",
   "metadata": {},
   "source": [
    "##### Predictions"
   ]
  },
  {
   "cell_type": "code",
   "execution_count": 284,
   "id": "defd8302",
   "metadata": {},
   "outputs": [
    {
     "name": "stdout",
     "output_type": "stream",
     "text": [
      "46/46 [==============================] - 3s 13ms/step\n",
      "6/6 [==============================] - 0s 17ms/step\n"
     ]
    }
   ],
   "source": [
    "# make predictions on training and testing data\n",
    "train_pred = model.predict(X_train)\n",
    "test_pred = model.predict(X_test)"
   ]
  },
  {
   "cell_type": "code",
   "execution_count": 285,
   "id": "cf2a3127",
   "metadata": {},
   "outputs": [
    {
     "data": {
      "text/plain": [
       "array([[0.05402771],\n",
       "       [0.05331524],\n",
       "       [0.05280698],\n",
       "       ...,\n",
       "       [0.70124555],\n",
       "       [0.7126648 ],\n",
       "       [0.7205969 ]], dtype=float32)"
      ]
     },
     "execution_count": 285,
     "metadata": {},
     "output_type": "execute_result"
    }
   ],
   "source": [
    "# predictions on training data\n",
    "train_pred"
   ]
  },
  {
   "cell_type": "code",
   "execution_count": 286,
   "id": "0fdde668",
   "metadata": {
    "collapsed": true
   },
   "outputs": [
    {
     "data": {
      "text/plain": [
       "array([[0.6502202 ],\n",
       "       [0.6513672 ],\n",
       "       [0.65566075],\n",
       "       [0.665003  ],\n",
       "       [0.6743604 ],\n",
       "       [0.6821563 ],\n",
       "       [0.69052255],\n",
       "       [0.7013612 ],\n",
       "       [0.70671076],\n",
       "       [0.711635  ],\n",
       "       [0.7117059 ],\n",
       "       [0.7132664 ],\n",
       "       [0.7160244 ],\n",
       "       [0.71963584],\n",
       "       [0.7192973 ],\n",
       "       [0.7172255 ],\n",
       "       [0.7129493 ],\n",
       "       [0.71350026],\n",
       "       [0.7180519 ],\n",
       "       [0.72157353],\n",
       "       [0.7205341 ],\n",
       "       [0.7167835 ],\n",
       "       [0.70972013],\n",
       "       [0.7054323 ],\n",
       "       [0.69642496],\n",
       "       [0.68731195],\n",
       "       [0.6854844 ],\n",
       "       [0.6898452 ],\n",
       "       [0.6888322 ],\n",
       "       [0.6814347 ],\n",
       "       [0.66794205],\n",
       "       [0.6603777 ],\n",
       "       [0.66506535],\n",
       "       [0.6727687 ],\n",
       "       [0.6744198 ],\n",
       "       [0.67056715],\n",
       "       [0.67057455],\n",
       "       [0.6710836 ],\n",
       "       [0.67374855],\n",
       "       [0.67665625],\n",
       "       [0.678311  ],\n",
       "       [0.6758926 ],\n",
       "       [0.6708637 ],\n",
       "       [0.66637784],\n",
       "       [0.6659598 ],\n",
       "       [0.6657039 ],\n",
       "       [0.6689836 ],\n",
       "       [0.67368215],\n",
       "       [0.67838144],\n",
       "       [0.681798  ],\n",
       "       [0.68126255],\n",
       "       [0.68066746],\n",
       "       [0.68673134],\n",
       "       [0.69359815],\n",
       "       [0.6978828 ],\n",
       "       [0.7018538 ],\n",
       "       [0.7025193 ],\n",
       "       [0.704195  ],\n",
       "       [0.7098517 ],\n",
       "       [0.7153754 ],\n",
       "       [0.717435  ],\n",
       "       [0.7161089 ],\n",
       "       [0.71700907],\n",
       "       [0.7226037 ],\n",
       "       [0.72973275],\n",
       "       [0.7346653 ],\n",
       "       [0.7409109 ],\n",
       "       [0.74979603],\n",
       "       [0.76110935],\n",
       "       [0.7663779 ],\n",
       "       [0.76868844],\n",
       "       [0.76849514],\n",
       "       [0.7696345 ],\n",
       "       [0.778274  ],\n",
       "       [0.78654134],\n",
       "       [0.78591514],\n",
       "       [0.7731193 ],\n",
       "       [0.7673446 ],\n",
       "       [0.7692123 ],\n",
       "       [0.7759659 ],\n",
       "       [0.78460634],\n",
       "       [0.79050744],\n",
       "       [0.78752637],\n",
       "       [0.77736765],\n",
       "       [0.77002525],\n",
       "       [0.769092  ],\n",
       "       [0.771099  ],\n",
       "       [0.77631915],\n",
       "       [0.78006524],\n",
       "       [0.78094554],\n",
       "       [0.7782979 ],\n",
       "       [0.7750838 ],\n",
       "       [0.7726486 ],\n",
       "       [0.77236104],\n",
       "       [0.77919424],\n",
       "       [0.7875263 ],\n",
       "       [0.79570746],\n",
       "       [0.7984024 ],\n",
       "       [0.7894757 ],\n",
       "       [0.7793597 ],\n",
       "       [0.77818763],\n",
       "       [0.7860576 ],\n",
       "       [0.79425013],\n",
       "       [0.7952493 ],\n",
       "       [0.7901293 ],\n",
       "       [0.78706753],\n",
       "       [0.7961789 ],\n",
       "       [0.80555654],\n",
       "       [0.8098736 ],\n",
       "       [0.8115636 ],\n",
       "       [0.8131913 ],\n",
       "       [0.8190273 ],\n",
       "       [0.82174295],\n",
       "       [0.8188075 ],\n",
       "       [0.80499226],\n",
       "       [0.7935368 ],\n",
       "       [0.7880626 ],\n",
       "       [0.7898872 ],\n",
       "       [0.7937372 ],\n",
       "       [0.7904855 ],\n",
       "       [0.7778599 ],\n",
       "       [0.7671073 ],\n",
       "       [0.7680564 ],\n",
       "       [0.77666616],\n",
       "       [0.7838517 ],\n",
       "       [0.782555  ],\n",
       "       [0.77023107],\n",
       "       [0.7598138 ],\n",
       "       [0.7544693 ],\n",
       "       [0.75624907],\n",
       "       [0.754207  ],\n",
       "       [0.7532731 ],\n",
       "       [0.7561966 ],\n",
       "       [0.76255983],\n",
       "       [0.76692045],\n",
       "       [0.76736975],\n",
       "       [0.7631866 ],\n",
       "       [0.7575002 ],\n",
       "       [0.75960016],\n",
       "       [0.76803005],\n",
       "       [0.77859855],\n",
       "       [0.7891396 ],\n",
       "       [0.7958851 ],\n",
       "       [0.79791343],\n",
       "       [0.7955125 ],\n",
       "       [0.7923733 ],\n",
       "       [0.79243076],\n",
       "       [0.7937909 ],\n",
       "       [0.8019564 ],\n",
       "       [0.8053248 ],\n",
       "       [0.8014983 ],\n",
       "       [0.7981019 ],\n",
       "       [0.8004625 ],\n",
       "       [0.8038212 ],\n",
       "       [0.80560267],\n",
       "       [0.80378693],\n",
       "       [0.80150306],\n",
       "       [0.7949346 ],\n",
       "       [0.78854716],\n",
       "       [0.7898616 ],\n",
       "       [0.7950182 ],\n",
       "       [0.8005227 ],\n",
       "       [0.8077664 ],\n",
       "       [0.82086855],\n",
       "       [0.8359392 ],\n",
       "       [0.8448495 ],\n",
       "       [0.84640676],\n",
       "       [0.8452725 ],\n",
       "       [0.8348878 ],\n",
       "       [0.83164686],\n",
       "       [0.8456897 ],\n",
       "       [0.8608328 ],\n",
       "       [0.8648789 ],\n",
       "       [0.8573236 ],\n",
       "       [0.8556037 ],\n",
       "       [0.8705951 ],\n",
       "       [0.8930378 ],\n",
       "       [0.90445155],\n",
       "       [0.91181636],\n",
       "       [0.9081093 ],\n",
       "       [0.89829654],\n",
       "       [0.90164065],\n",
       "       [0.8981577 ],\n",
       "       [0.8892397 ],\n",
       "       [0.8811923 ],\n",
       "       [0.8850775 ],\n",
       "       [0.89799124],\n",
       "       [0.9080111 ],\n",
       "       [0.916981  ],\n",
       "       [0.91859156],\n",
       "       [0.91514266]], dtype=float32)"
      ]
     },
     "execution_count": 286,
     "metadata": {},
     "output_type": "execute_result"
    }
   ],
   "source": [
    "# predictions on testing data\n",
    "test_pred"
   ]
  },
  {
   "cell_type": "markdown",
   "id": "6e67338c",
   "metadata": {},
   "source": [
    "To make sense of our predictions, we have to scale them back to their original form for our error calculations. We do this by using inverse_transform to our scaler."
   ]
  },
  {
   "cell_type": "code",
   "execution_count": 287,
   "id": "c9f32050",
   "metadata": {},
   "outputs": [],
   "source": [
    "# Convert values back to original unscaled version\n",
    "train_pred = scaler.inverse_transform(train_pred)\n",
    "test_pred = scaler.inverse_transform(test_pred)\n",
    "y_train = scaler.inverse_transform([y_train])\n",
    "y_test = scaler.inverse_transform([y_test])"
   ]
  },
  {
   "cell_type": "code",
   "execution_count": 288,
   "id": "aca5e986",
   "metadata": {},
   "outputs": [],
   "source": [
    "import math\n",
    "from sklearn.metrics import mean_squared_error"
   ]
  },
  {
   "cell_type": "code",
   "execution_count": 289,
   "id": "85e596fc",
   "metadata": {},
   "outputs": [
    {
     "data": {
      "text/plain": [
       "1.8810902816593538"
      ]
     },
     "execution_count": 289,
     "metadata": {},
     "output_type": "execute_result"
    }
   ],
   "source": [
    "# find rmse for training data\n",
    "math.sqrt(mean_squared_error(y_train[0], train_pred[:,0]))"
   ]
  },
  {
   "cell_type": "code",
   "execution_count": 290,
   "id": "fcd9ee38",
   "metadata": {},
   "outputs": [
    {
     "data": {
      "text/plain": [
       "4.590379010455707"
      ]
     },
     "execution_count": 290,
     "metadata": {},
     "output_type": "execute_result"
    }
   ],
   "source": [
    "# do the same for test data\n",
    "math.sqrt(mean_squared_error(y_test[0], test_pred[:,0]))"
   ]
  },
  {
   "cell_type": "markdown",
   "id": "e0c0bd5d",
   "metadata": {},
   "source": [
    "To plot the code I have referenced Jason Browniee's work on LSTMs. In order to plot our predictions we have to shift our data because the LSTM will output the first prediction using the previous data. This means the predicted value at time t (first day) is actually the expected value for t+1 (tomorrow). "
   ]
  },
  {
   "cell_type": "code",
   "execution_count": 294,
   "id": "dc3d4d2f",
   "metadata": {},
   "outputs": [
    {
     "data": {
      "text/plain": [
       "Text(0.5, 1.0, 'Apple Stock with Training, Testing, and Actual')"
      ]
     },
     "execution_count": 294,
     "metadata": {},
     "output_type": "execute_result"
    },
    {
     "data": {
      "image/png": "[encoded data removed]",
      "text/plain": [
       "<Figure size 640x480 with 1 Axes>"
      ]
     },
     "metadata": {},
     "output_type": "display_data"
    }
   ],
   "source": [
    "# create column of predictions\n",
    "train_pred_plot = np.empty_like(dataset)\n",
    "# make them all null for now\n",
    "train_pred_plot[:, :] = np.nan\n",
    "# fill with train_pred but shift them \n",
    "train_pred_plot[time_step: len(train_pred) + time_step, :] = train_pred\n",
    "\n",
    "# create column of predictions\n",
    "test_pred_plot = np.empty_like(dataset)\n",
    "# make them all null for now\n",
    "test_pred_plot[:, :] = np.nan\n",
    "# fill with train_pred but shift them \n",
    "test_pred_plot[len(train_pred)+(time_step*2)+1:len(dataset)-1, :] = test_pred\n",
    "\n",
    "# plot\n",
    "plt.plot(scaler.inverse_transform(dataset), label = 'Actual Data')\n",
    "plt.plot(train_pred_plot, label = 'Training Predictions')\n",
    "plt.plot(test_pred_plot, label = 'Testing Predictions')\n",
    "plt.legend()\n",
    "plt.title('Apple Stock with Training, Testing, and Actual')"
   ]
  },
  {
   "cell_type": "markdown",
   "id": "3c04503a",
   "metadata": {},
   "source": [
    "If we do not shift the data it appears the predictions are shifted to the right. "
   ]
  },
  {
   "cell_type": "code",
   "execution_count": 292,
   "id": "28b83d65",
   "metadata": {},
   "outputs": [
    {
     "data": {
      "image/png": "[encoded data removed]",
      "text/plain": [
       "<Figure size 640x480 with 1 Axes>"
      ]
     },
     "metadata": {},
     "output_type": "display_data"
    }
   ],
   "source": [
    "# plotting with no shift\n",
    "plt.plot(y_test[0], color = 'red', label = 'Actual Stock Price')\n",
    "plt.plot(test_pred, color = 'green', label = 'Predicted Stock Price')\n",
    "plt.title(' Stock Price Prediction')\n",
    "plt.xlabel('Time')\n",
    "plt.ylabel(' Stock Price')\n",
    "plt.legend()\n",
    "plt.show()"
   ]
  },
  {
   "cell_type": "markdown",
   "id": "04fe9bd7",
   "metadata": {},
   "source": [
    "##### Summary"
   ]
  },
  {
   "cell_type": "markdown",
   "id": "6e7853c6",
   "metadata": {},
   "source": [
    "We started our project by importing the data and preprocessing it so that we would only use the closing prices for our predictions. We preprocessed the data by first removing the entries before 2015 because I do not have a GPU and I do not believe the very small closing prices without much change would be beneficial to our model. This was a way for us to save time and still gather relatively accurate results. Following this we set up our training and testing data by locating the indicies that would belong to the years before 2021 as our training data and those that belong to the year 2021 as our testing data. Since **LSTM** expects our data to be an array, we changed our dataframe into an array by using .values. Also, since it is sensitive to a large range in values, we scaled our data using sklearn's MinMaxScaler. The last step in our preprocessing involved creating a dataset that would have our dependent X variables as the previous days and the dependent y variable as the closing price for the day we are on. We chose a time step of 60 previous days so we would have 60 X values, and 1 y value for every day in our data. We then added another dimension so that we can work with Keras.\n",
    "\n",
    "The model that we created was not overly complex as we had the first layer with 32 units and cut the units in half with each passing layer. We use return_sequences = True for every layer but our final LSTM layer. After 75 epochs our model was done training and we made predictions using our model. To calculate the RMSE we used an inverse_transform of our data so that we would be working with the original closing prices instead of the scaled version that changed all closing prices to be between 0 and 1. We found that our testing data RMSE was larger than our training data RMSE but not by much and this is expected because our model does not get to see the testing data so it should perform a little worse. If the difference between our training and testing RMSE was very high I would conclude that the model was overfitting but I do not believe that is the case with our results. \n",
    "\n",
    "To plot our results we referenced Jason Browniee's article where the data is shifted because the model will use past data to predict the price for tomorrow. This allowed us to plot the predicted data right on top of the original data so that we were able to see the performance directly. "
   ]
  },
  {
   "cell_type": "markdown",
   "id": "2c1fd71c",
   "metadata": {},
   "source": [
    "Overall, we have a low RMSE score and we can see that our graph follows relatively closely to the actual stock prices, but is forecasting values that are lower than the actual stock prices. This does not mean that we do not have a well performing model since the stock market is very hard to predict. One of the reasons it is hard to predict is that it can be very volatile at times and in practice there are many more inputs that will be given to our model. Remember, we were only using the following closing prices to predict the stock price for the next day, so I would say that our results are very good. To make this model better we can try to introduce more epochs and layers and maybe use Dropout but I do not believe this model is overfitting at an alarming rate. One benefit of using LSTM vs other models such as ARIMA is that we do not have to worry about the trend of our data, but we could perhaps try to remove the trend in our data. In my opinion, this would not be necessary. "
   ]
  },
  {
   "cell_type": "markdown",
   "id": "373e6e74",
   "metadata": {},
   "source": [
    "##### Predicting 2022"
   ]
  },
  {
   "cell_type": "markdown",
   "id": "12f2991c",
   "metadata": {},
   "source": [
    "To set up the data for multi-step predictions we need to change the way we set up our dataset. When we predicted the values for 2021 we set up the dataset to have 60 X-values and 1 y-value. Now, we will have 7 y-values as the output using the last 10 days as input. This portion of code was based off of Jason Brownlee's work with LSTM systems and Mikulski's article that I have referenced as well. I will try to explain each line of code to the best of my ability but the main thing to see here is that we are setting up our dataset differently so that we will be inputting 10 values for X but outputting 7 values for y instead of just 1 as we did before. The last 10 days will be the last 10 days of 2021 so we will first get this data and scale it properly. "
   ]
  },
  {
   "cell_type": "code",
   "execution_count": 741,
   "id": "a4fa21ff",
   "metadata": {},
   "outputs": [],
   "source": [
    "# Work with the closing prices\n",
    "data21 = df[['Date', 'Close']]"
   ]
  },
  {
   "cell_type": "code",
   "execution_count": 742,
   "id": "6bbd2572",
   "metadata": {},
   "outputs": [
    {
     "name": "stderr",
     "output_type": "stream",
     "text": [
      "C:\\Users\\ryans\\AppData\\Local\\Temp\\ipykernel_8260\\3088539813.py:2: SettingWithCopyWarning: \n",
      "A value is trying to be set on a copy of a slice from a DataFrame.\n",
      "Try using .loc[row_indexer,col_indexer] = value instead\n",
      "\n",
      "See the caveats in the documentation: https://pandas.pydata.org/pandas-docs/stable/user_guide/indexing.html#returning-a-view-versus-a-copy\n",
      "  data21['Date'] = pd.to_datetime(df['Date'])\n"
     ]
    }
   ],
   "source": [
    "# change date column to be the date time\n",
    "data21['Date'] = pd.to_datetime(df['Date'])"
   ]
  },
  {
   "cell_type": "code",
   "execution_count": 743,
   "id": "a69077ed",
   "metadata": {},
   "outputs": [],
   "source": [
    "data21.set_index('Date', inplace = True)"
   ]
  },
  {
   "cell_type": "code",
   "execution_count": 744,
   "id": "81a332c2",
   "metadata": {},
   "outputs": [
    {
     "data": {
      "text/html": [
       "<div>\n",
       "<style scoped>\n",
       "    .dataframe tbody tr th:only-of-type {\n",
       "        vertical-align: middle;\n",
       "    }\n",
       "\n",
       "    .dataframe tbody tr th {\n",
       "        vertical-align: top;\n",
       "    }\n",
       "\n",
       "    .dataframe thead th {\n",
       "        text-align: right;\n",
       "    }\n",
       "</style>\n",
       "<table border=\"1\" class=\"dataframe\">\n",
       "  <thead>\n",
       "    <tr style=\"text-align: right;\">\n",
       "      <th></th>\n",
       "      <th>Close</th>\n",
       "    </tr>\n",
       "    <tr>\n",
       "      <th>Date</th>\n",
       "      <th></th>\n",
       "    </tr>\n",
       "  </thead>\n",
       "  <tbody>\n",
       "    <tr>\n",
       "      <th>2022-06-13</th>\n",
       "      <td>131.880005</td>\n",
       "    </tr>\n",
       "    <tr>\n",
       "      <th>2022-06-14</th>\n",
       "      <td>132.759995</td>\n",
       "    </tr>\n",
       "    <tr>\n",
       "      <th>2022-06-15</th>\n",
       "      <td>135.429993</td>\n",
       "    </tr>\n",
       "    <tr>\n",
       "      <th>2022-06-16</th>\n",
       "      <td>130.059998</td>\n",
       "    </tr>\n",
       "    <tr>\n",
       "      <th>2022-06-17</th>\n",
       "      <td>131.559998</td>\n",
       "    </tr>\n",
       "  </tbody>\n",
       "</table>\n",
       "</div>"
      ],
      "text/plain": [
       "                 Close\n",
       "Date                  \n",
       "2022-06-13  131.880005\n",
       "2022-06-14  132.759995\n",
       "2022-06-15  135.429993\n",
       "2022-06-16  130.059998\n",
       "2022-06-17  131.559998"
      ]
     },
     "execution_count": 744,
     "metadata": {},
     "output_type": "execute_result"
    }
   ],
   "source": [
    "data21.tail()"
   ]
  },
  {
   "cell_type": "code",
   "execution_count": 745,
   "id": "01d9328b",
   "metadata": {},
   "outputs": [],
   "source": [
    "data21 = data21.loc['2020':]"
   ]
  },
  {
   "cell_type": "code",
   "execution_count": 746,
   "id": "60661d26",
   "metadata": {},
   "outputs": [
    {
     "data": {
      "text/html": [
       "<div>\n",
       "<style scoped>\n",
       "    .dataframe tbody tr th:only-of-type {\n",
       "        vertical-align: middle;\n",
       "    }\n",
       "\n",
       "    .dataframe tbody tr th {\n",
       "        vertical-align: top;\n",
       "    }\n",
       "\n",
       "    .dataframe thead th {\n",
       "        text-align: right;\n",
       "    }\n",
       "</style>\n",
       "<table border=\"1\" class=\"dataframe\">\n",
       "  <thead>\n",
       "    <tr style=\"text-align: right;\">\n",
       "      <th></th>\n",
       "      <th>Close</th>\n",
       "    </tr>\n",
       "    <tr>\n",
       "      <th>Date</th>\n",
       "      <th></th>\n",
       "    </tr>\n",
       "  </thead>\n",
       "  <tbody>\n",
       "    <tr>\n",
       "      <th>2020-01-02</th>\n",
       "      <td>75.087502</td>\n",
       "    </tr>\n",
       "    <tr>\n",
       "      <th>2020-01-03</th>\n",
       "      <td>74.357498</td>\n",
       "    </tr>\n",
       "    <tr>\n",
       "      <th>2020-01-06</th>\n",
       "      <td>74.949997</td>\n",
       "    </tr>\n",
       "    <tr>\n",
       "      <th>2020-01-07</th>\n",
       "      <td>74.597504</td>\n",
       "    </tr>\n",
       "    <tr>\n",
       "      <th>2020-01-08</th>\n",
       "      <td>75.797501</td>\n",
       "    </tr>\n",
       "    <tr>\n",
       "      <th>...</th>\n",
       "      <td>...</td>\n",
       "    </tr>\n",
       "    <tr>\n",
       "      <th>2022-06-13</th>\n",
       "      <td>131.880005</td>\n",
       "    </tr>\n",
       "    <tr>\n",
       "      <th>2022-06-14</th>\n",
       "      <td>132.759995</td>\n",
       "    </tr>\n",
       "    <tr>\n",
       "      <th>2022-06-15</th>\n",
       "      <td>135.429993</td>\n",
       "    </tr>\n",
       "    <tr>\n",
       "      <th>2022-06-16</th>\n",
       "      <td>130.059998</td>\n",
       "    </tr>\n",
       "    <tr>\n",
       "      <th>2022-06-17</th>\n",
       "      <td>131.559998</td>\n",
       "    </tr>\n",
       "  </tbody>\n",
       "</table>\n",
       "<p>621 rows × 1 columns</p>\n",
       "</div>"
      ],
      "text/plain": [
       "                 Close\n",
       "Date                  \n",
       "2020-01-02   75.087502\n",
       "2020-01-03   74.357498\n",
       "2020-01-06   74.949997\n",
       "2020-01-07   74.597504\n",
       "2020-01-08   75.797501\n",
       "...                ...\n",
       "2022-06-13  131.880005\n",
       "2022-06-14  132.759995\n",
       "2022-06-15  135.429993\n",
       "2022-06-16  130.059998\n",
       "2022-06-17  131.559998\n",
       "\n",
       "[621 rows x 1 columns]"
      ]
     },
     "execution_count": 746,
     "metadata": {},
     "output_type": "execute_result"
    }
   ],
   "source": [
    "data21"
   ]
  },
  {
   "cell_type": "markdown",
   "id": "4d6475df",
   "metadata": {},
   "source": [
    "**Where does training end and testing begin**"
   ]
  },
  {
   "cell_type": "code",
   "execution_count": 748,
   "id": "107d9d84",
   "metadata": {},
   "outputs": [
    {
     "data": {
      "text/plain": [
       "slice(505, 621, None)"
      ]
     },
     "execution_count": 748,
     "metadata": {},
     "output_type": "execute_result"
    }
   ],
   "source": [
    "# find starting index of test data\n",
    "data21.index.get_loc('2022')"
   ]
  },
  {
   "cell_type": "code",
   "execution_count": 749,
   "id": "37fcb72d",
   "metadata": {},
   "outputs": [],
   "source": [
    "# change to array\n",
    "data21 = data21.values"
   ]
  },
  {
   "cell_type": "code",
   "execution_count": 750,
   "id": "c203dfc2",
   "metadata": {},
   "outputs": [],
   "source": [
    "data21 = data21.astype('float32')"
   ]
  },
  {
   "cell_type": "code",
   "execution_count": 751,
   "id": "a3aa6277",
   "metadata": {},
   "outputs": [],
   "source": [
    "# scale our data\n",
    "data21 = scaler.fit_transform(data21)"
   ]
  },
  {
   "cell_type": "code",
   "execution_count": 752,
   "id": "3a8c4e8e",
   "metadata": {},
   "outputs": [
    {
     "data": {
      "text/plain": [
       "array([[0.15085277],\n",
       "       [0.14505526],\n",
       "       [0.14976075],\n",
       "       [0.14696136],\n",
       "       [0.15649137]], dtype=float32)"
      ]
     },
     "execution_count": 752,
     "metadata": {},
     "output_type": "execute_result"
    }
   ],
   "source": [
    "data21[:5]"
   ]
  },
  {
   "cell_type": "code",
   "execution_count": 786,
   "id": "5648cb69",
   "metadata": {},
   "outputs": [],
   "source": [
    "# set up training and testing data\n",
    "train_data = data21[0:505,:]\n",
    "test_data = data21[505:529, :1]"
   ]
  },
  {
   "cell_type": "code",
   "execution_count": 787,
   "id": "85e5dc63",
   "metadata": {},
   "outputs": [],
   "source": [
    "# create a data set with multiple predictions instead of 1\n",
    "def build_training_data(dataset, history_size = 10, target_size = 7):\n",
    "    \n",
    "    # start 10 days prior end 7 days from the end of the data\n",
    "    start_index = history_size\n",
    "    end_index = len(dataset) - target_size\n",
    "\n",
    "    X = []\n",
    "    y = []\n",
    "\n",
    "    for i in range(start_index, end_index):\n",
    "        indices = range(i - history_size, i, 1)\n",
    "        X.append(dataset[indices])\n",
    "        y.append(dataset[i:i + target_size])\n",
    "\n",
    "    X = np.array(X)\n",
    "    y = np.array(y)\n",
    "    return X, y\n"
   ]
  },
  {
   "cell_type": "code",
   "execution_count": 788,
   "id": "c3addfd6",
   "metadata": {},
   "outputs": [],
   "source": [
    "# train and test partitions\n",
    "X_train, y_train = build_training_data(train_data)\n",
    "X_test, y_test = build_training_data(test_data)"
   ]
  },
  {
   "cell_type": "code",
   "execution_count": 789,
   "id": "b66ecfb9",
   "metadata": {},
   "outputs": [
    {
     "data": {
      "text/plain": [
       "(488, 10, 1)"
      ]
     },
     "execution_count": 789,
     "metadata": {},
     "output_type": "execute_result"
    }
   ],
   "source": [
    "# shape of training data\n",
    "X_train.shape"
   ]
  },
  {
   "cell_type": "code",
   "execution_count": 790,
   "id": "ec92bdfc",
   "metadata": {},
   "outputs": [
    {
     "data": {
      "text/plain": [
       "(488, 7, 1)"
      ]
     },
     "execution_count": 790,
     "metadata": {},
     "output_type": "execute_result"
    }
   ],
   "source": [
    "# shape of training data - notice the 7\n",
    "y_train.shape"
   ]
  },
  {
   "cell_type": "code",
   "execution_count": 791,
   "id": "1bd15a96",
   "metadata": {},
   "outputs": [
    {
     "data": {
      "text/plain": [
       "(7, 10, 1)"
      ]
     },
     "execution_count": 791,
     "metadata": {},
     "output_type": "execute_result"
    }
   ],
   "source": [
    "X_test.shape"
   ]
  },
  {
   "cell_type": "code",
   "execution_count": 792,
   "id": "a738cac2",
   "metadata": {},
   "outputs": [
    {
     "data": {
      "text/plain": [
       "(7, 7, 1)"
      ]
     },
     "execution_count": 792,
     "metadata": {},
     "output_type": "execute_result"
    }
   ],
   "source": [
    "y_test.shape"
   ]
  },
  {
   "cell_type": "code",
   "execution_count": 794,
   "id": "78658a56",
   "metadata": {},
   "outputs": [],
   "source": [
    "# reshape our data\n",
    "X_train = X_train.reshape((-1, 10, 1))\n",
    "y_train = y_train.reshape((-1, 7))\n",
    "\n",
    "X_test = X_test.reshape((-1, 10, 1))\n",
    "y_test = y_test.reshape((-1, 7))"
   ]
  },
  {
   "cell_type": "code",
   "execution_count": 797,
   "id": "2da01554",
   "metadata": {},
   "outputs": [],
   "source": [
    "# build a model with the dense layer being 7 instead of 1\n",
    "model = Sequential()\n",
    "model.add(LSTM(10, return_sequences=True, input_shape=(10, 1)))\n",
    "model.add(LSTM(10))\n",
    "model.add(Dense(7))\n",
    "model.compile(optimizer='adam', loss='mse')"
   ]
  },
  {
   "cell_type": "code",
   "execution_count": 798,
   "id": "4809cf4e",
   "metadata": {},
   "outputs": [
    {
     "name": "stdout",
     "output_type": "stream",
     "text": [
      "Epoch 1/50\n",
      "16/16 [==============================] - 7s 17ms/step - loss: 0.2470\n",
      "Epoch 2/50\n",
      "16/16 [==============================] - 0s 17ms/step - loss: 0.1827\n",
      "Epoch 3/50\n",
      "16/16 [==============================] - 0s 17ms/step - loss: 0.1118\n",
      "Epoch 4/50\n",
      "16/16 [==============================] - 0s 18ms/step - loss: 0.0550\n",
      "Epoch 5/50\n",
      "16/16 [==============================] - 0s 18ms/step - loss: 0.0281\n",
      "Epoch 6/50\n",
      "16/16 [==============================] - 0s 17ms/step - loss: 0.0152\n",
      "Epoch 7/50\n",
      "16/16 [==============================] - 0s 17ms/step - loss: 0.0093\n",
      "Epoch 8/50\n",
      "16/16 [==============================] - 0s 17ms/step - loss: 0.0062\n",
      "Epoch 9/50\n",
      "16/16 [==============================] - 0s 18ms/step - loss: 0.0045\n",
      "Epoch 10/50\n",
      "16/16 [==============================] - 0s 17ms/step - loss: 0.0037\n",
      "Epoch 11/50\n",
      "16/16 [==============================] - 0s 17ms/step - loss: 0.0033\n",
      "Epoch 12/50\n",
      "16/16 [==============================] - 0s 18ms/step - loss: 0.0032\n",
      "Epoch 13/50\n",
      "16/16 [==============================] - 0s 18ms/step - loss: 0.0030\n",
      "Epoch 14/50\n",
      "16/16 [==============================] - 0s 17ms/step - loss: 0.0030\n",
      "Epoch 15/50\n",
      "16/16 [==============================] - 0s 27ms/step - loss: 0.0029\n",
      "Epoch 16/50\n",
      "16/16 [==============================] - 0s 19ms/step - loss: 0.0029\n",
      "Epoch 17/50\n",
      "16/16 [==============================] - 0s 19ms/step - loss: 0.0029\n",
      "Epoch 18/50\n",
      "16/16 [==============================] - 0s 29ms/step - loss: 0.0028\n",
      "Epoch 19/50\n",
      "16/16 [==============================] - 0s 14ms/step - loss: 0.0029\n",
      "Epoch 20/50\n",
      "16/16 [==============================] - 0s 16ms/step - loss: 0.0027\n",
      "Epoch 21/50\n",
      "16/16 [==============================] - 0s 15ms/step - loss: 0.0027\n",
      "Epoch 22/50\n",
      "16/16 [==============================] - 0s 9ms/step - loss: 0.0027\n",
      "Epoch 23/50\n",
      "16/16 [==============================] - 0s 8ms/step - loss: 0.0027\n",
      "Epoch 24/50\n",
      "16/16 [==============================] - 0s 8ms/step - loss: 0.0027\n",
      "Epoch 25/50\n",
      "16/16 [==============================] - 0s 8ms/step - loss: 0.0027\n",
      "Epoch 26/50\n",
      "16/16 [==============================] - 0s 7ms/step - loss: 0.0027\n",
      "Epoch 27/50\n",
      "16/16 [==============================] - 0s 7ms/step - loss: 0.0026\n",
      "Epoch 28/50\n",
      "16/16 [==============================] - 0s 7ms/step - loss: 0.0026\n",
      "Epoch 29/50\n",
      "16/16 [==============================] - 0s 7ms/step - loss: 0.0026\n",
      "Epoch 30/50\n",
      "16/16 [==============================] - 0s 7ms/step - loss: 0.0026\n",
      "Epoch 31/50\n",
      "16/16 [==============================] - 0s 7ms/step - loss: 0.0027\n",
      "Epoch 32/50\n",
      "16/16 [==============================] - 0s 10ms/step - loss: 0.0026\n",
      "Epoch 33/50\n",
      "16/16 [==============================] - 0s 7ms/step - loss: 0.0026\n",
      "Epoch 34/50\n",
      "16/16 [==============================] - 0s 6ms/step - loss: 0.0026\n",
      "Epoch 35/50\n",
      "16/16 [==============================] - 0s 7ms/step - loss: 0.0025\n",
      "Epoch 36/50\n",
      "16/16 [==============================] - 0s 7ms/step - loss: 0.0025\n",
      "Epoch 37/50\n",
      "16/16 [==============================] - 0s 6ms/step - loss: 0.0026\n",
      "Epoch 38/50\n",
      "16/16 [==============================] - 0s 7ms/step - loss: 0.0025\n",
      "Epoch 39/50\n",
      "16/16 [==============================] - 0s 8ms/step - loss: 0.0025\n",
      "Epoch 40/50\n",
      "16/16 [==============================] - 0s 7ms/step - loss: 0.0026\n",
      "Epoch 41/50\n",
      "16/16 [==============================] - 0s 7ms/step - loss: 0.0025\n",
      "Epoch 42/50\n",
      "16/16 [==============================] - 0s 7ms/step - loss: 0.0024\n",
      "Epoch 43/50\n",
      "16/16 [==============================] - 0s 7ms/step - loss: 0.0024\n",
      "Epoch 44/50\n",
      "16/16 [==============================] - 0s 7ms/step - loss: 0.0024\n",
      "Epoch 45/50\n",
      "16/16 [==============================] - 0s 7ms/step - loss: 0.0025\n",
      "Epoch 46/50\n",
      "16/16 [==============================] - 0s 7ms/step - loss: 0.0025\n",
      "Epoch 47/50\n",
      "16/16 [==============================] - 0s 6ms/step - loss: 0.0025\n",
      "Epoch 48/50\n",
      "16/16 [==============================] - 0s 7ms/step - loss: 0.0024\n",
      "Epoch 49/50\n",
      "16/16 [==============================] - 0s 7ms/step - loss: 0.0024\n",
      "Epoch 50/50\n",
      "16/16 [==============================] - 0s 7ms/step - loss: 0.0024\n"
     ]
    },
    {
     "data": {
      "text/plain": [
       "<keras.callbacks.History at 0x20eb5752e30>"
      ]
     },
     "execution_count": 798,
     "metadata": {},
     "output_type": "execute_result"
    }
   ],
   "source": [
    "model.fit(X_train, y_train, epochs=50, verbose=1)"
   ]
  },
  {
   "cell_type": "code",
   "execution_count": 801,
   "id": "25171d79",
   "metadata": {},
   "outputs": [
    {
     "name": "stdout",
     "output_type": "stream",
     "text": [
      "1/1 [==============================] - 0s 80ms/step\n"
     ]
    }
   ],
   "source": [
    "# make predictions\n",
    "test_pred = model.predict(X_test)"
   ]
  },
  {
   "cell_type": "code",
   "execution_count": 802,
   "id": "eba0e876",
   "metadata": {},
   "outputs": [],
   "source": [
    "# scale back for rmse\n",
    "test_pred = scaler.inverse_transform(test_pred)\n",
    "y_test = scaler.inverse_transform(y_test)"
   ]
  },
  {
   "cell_type": "code",
   "execution_count": 803,
   "id": "624d6043",
   "metadata": {},
   "outputs": [
    {
     "data": {
      "text/plain": [
       "7.557758957454543"
      ]
     },
     "execution_count": 803,
     "metadata": {},
     "output_type": "execute_result"
    }
   ],
   "source": [
    "# do the same for test data\n",
    "math.sqrt(mean_squared_error(y_test, test_pred))"
   ]
  },
  {
   "cell_type": "code",
   "execution_count": 804,
   "id": "b1f37dc4",
   "metadata": {},
   "outputs": [
    {
     "data": {
      "text/plain": [
       "7"
      ]
     },
     "execution_count": 804,
     "metadata": {},
     "output_type": "execute_result"
    }
   ],
   "source": [
    "len(y_test)"
   ]
  },
  {
   "cell_type": "code",
   "execution_count": 805,
   "id": "1c3c2409",
   "metadata": {},
   "outputs": [
    {
     "data": {
      "text/plain": [
       "7"
      ]
     },
     "execution_count": 805,
     "metadata": {},
     "output_type": "execute_result"
    }
   ],
   "source": [
    "len(test_pred)"
   ]
  },
  {
   "cell_type": "code",
   "execution_count": 806,
   "id": "d9d47012",
   "metadata": {},
   "outputs": [
    {
     "data": {
      "image/png": "[encoded data removed]",
      "text/plain": [
       "<Figure size 640x480 with 1 Axes>"
      ]
     },
     "metadata": {},
     "output_type": "display_data"
    }
   ],
   "source": [
    "# plotting \n",
    "plt.plot(y_test[0], color = 'red', label = 'Actual Stock Price')\n",
    "plt.plot(test_pred[0], color = 'green', label = 'Predicted Stock Price')\n",
    "plt.title(' Stock Price Prediction')\n",
    "plt.xlabel('Time')\n",
    "plt.ylabel(' Stock Price')\n",
    "plt.legend()\n",
    "plt.show()"
   ]
  },
  {
   "cell_type": "code",
   "execution_count": 808,
   "id": "60bcab90",
   "metadata": {},
   "outputs": [
    {
     "data": {
      "text/plain": [
       "array([169.85191, 169.91829, 169.37042, 169.0241 , 170.75932, 169.214  ,\n",
       "       169.60527], dtype=float32)"
      ]
     },
     "execution_count": 808,
     "metadata": {},
     "output_type": "execute_result"
    }
   ],
   "source": [
    "# predicted\n",
    "test_pred[1]"
   ]
  },
  {
   "cell_type": "code",
   "execution_count": 810,
   "id": "c0ddc0b9",
   "metadata": {},
   "outputs": [
    {
     "data": {
      "text/plain": [
       "array([166.23, 164.51, 162.41, 161.62, 159.78, 159.69, 159.22],\n",
       "      dtype=float32)"
      ]
     },
     "execution_count": 810,
     "metadata": {},
     "output_type": "execute_result"
    }
   ],
   "source": [
    "# actual\n",
    "y_test[1]"
   ]
  },
  {
   "cell_type": "code",
   "execution_count": 828,
   "id": "34fb79b3",
   "metadata": {},
   "outputs": [
    {
     "data": {
      "text/html": [
       "<div>\n",
       "<style scoped>\n",
       "    .dataframe tbody tr th:only-of-type {\n",
       "        vertical-align: middle;\n",
       "    }\n",
       "\n",
       "    .dataframe tbody tr th {\n",
       "        vertical-align: top;\n",
       "    }\n",
       "\n",
       "    .dataframe thead th {\n",
       "        text-align: right;\n",
       "    }\n",
       "</style>\n",
       "<table border=\"1\" class=\"dataframe\">\n",
       "  <thead>\n",
       "    <tr style=\"text-align: right;\">\n",
       "      <th></th>\n",
       "      <th>Actual</th>\n",
       "      <th>Predicted</th>\n",
       "    </tr>\n",
       "  </thead>\n",
       "  <tbody>\n",
       "    <tr>\n",
       "      <th>0</th>\n",
       "      <td>166.229996</td>\n",
       "      <td>169.851913</td>\n",
       "    </tr>\n",
       "    <tr>\n",
       "      <th>1</th>\n",
       "      <td>164.509995</td>\n",
       "      <td>169.918289</td>\n",
       "    </tr>\n",
       "    <tr>\n",
       "      <th>2</th>\n",
       "      <td>162.410004</td>\n",
       "      <td>169.370422</td>\n",
       "    </tr>\n",
       "    <tr>\n",
       "      <th>3</th>\n",
       "      <td>161.619995</td>\n",
       "      <td>169.024094</td>\n",
       "    </tr>\n",
       "    <tr>\n",
       "      <th>4</th>\n",
       "      <td>159.779999</td>\n",
       "      <td>170.759323</td>\n",
       "    </tr>\n",
       "    <tr>\n",
       "      <th>5</th>\n",
       "      <td>159.690002</td>\n",
       "      <td>169.214005</td>\n",
       "    </tr>\n",
       "    <tr>\n",
       "      <th>6</th>\n",
       "      <td>159.220001</td>\n",
       "      <td>169.605270</td>\n",
       "    </tr>\n",
       "  </tbody>\n",
       "</table>\n",
       "</div>"
      ],
      "text/plain": [
       "       Actual   Predicted\n",
       "0  166.229996  169.851913\n",
       "1  164.509995  169.918289\n",
       "2  162.410004  169.370422\n",
       "3  161.619995  169.024094\n",
       "4  159.779999  170.759323\n",
       "5  159.690002  169.214005\n",
       "6  159.220001  169.605270"
      ]
     },
     "execution_count": 828,
     "metadata": {},
     "output_type": "execute_result"
    }
   ],
   "source": [
    "# final predictions in data frame form\n",
    "predictions"
   ]
  },
  {
   "cell_type": "markdown",
   "id": "6c5e5833",
   "metadata": {},
   "source": [
    "##### Summary"
   ]
  },
  {
   "cell_type": "markdown",
   "id": "11d9b9e1",
   "metadata": {},
   "source": [
    "Overall, this model is performing quite well. To be able to predict the stock market 7 days into the future is no small task and we were able to stay within about $10 with only a simple LSTM model. To make this model perform better we can use more epochs and more units. "
   ]
  },
  {
   "cell_type": "markdown",
   "id": "990c0a80",
   "metadata": {},
   "source": [
    "##### References"
   ]
  },
  {
   "cell_type": "markdown",
   "id": "0d11cd77",
   "metadata": {},
   "source": [
    "Brownlee, J. (2020). *How to Develop LSTM Models for Time Series Forecasting*. Deep Learning for Time Series. https://machinelearningmastery.com/how-to-develop-lstm-models-for-time-series-forecasting/\n",
    "\n",
    "Géron, A. (2019). Hands-On Machine Learning with Scikit-Learn, Keras and TensorFlow. Kiwisoft S.A.S.\n",
    "\n",
    "Mikulski, B. (2019). *How to split a data frame into time-series for LSTM deep neural network*. Bartosz Mikulski - AI Consultant. https://mikulskibartosz.name/how-to-split-a-data-frame-into-time-series-for-lstm-deep-neural-network"
   ]
  },
  {
   "cell_type": "code",
   "execution_count": null,
   "id": "4485995a",
   "metadata": {},
   "outputs": [],
   "source": []
  }
 ],
 "metadata": {
  "kernelspec": {
   "display_name": "Python 3 (ipykernel)",
   "language": "python",
   "name": "python3"
  },
  "language_info": {
   "codemirror_mode": {
    "name": "ipython",
    "version": 3
   },
   "file_extension": ".py",
   "mimetype": "text/x-python",
   "name": "python",
   "nbconvert_exporter": "python",
   "pygments_lexer": "ipython3",
   "version": "3.10.9"
  }
 },
 "nbformat": 4,
 "nbformat_minor": 5
}
